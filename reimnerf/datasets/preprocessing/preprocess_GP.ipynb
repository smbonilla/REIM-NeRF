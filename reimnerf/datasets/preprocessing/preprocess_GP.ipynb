{
 "cells": [
  {
   "cell_type": "code",
   "execution_count": 65,
   "metadata": {},
   "outputs": [],
   "source": [
    "# add a path to sys.path\n",
    "import sys\n",
    "sys.path.append('/workspaces/REIM-NeRF/')\n",
    "from raw_data import ReimNeRFDataset, C3VD\n",
    "import numpy as np \n",
    "import cv2\n",
    "import colmap_read_model as cm \n",
    "import vis \n",
    "import mediapy\n",
    "import open3d as o3d\n",
    "from pathlib import Path\n",
    "import transforms_3d as utils\n",
    "import os\n",
    "from rnnslam_utils import read_rnnslam_extrinsics\n",
    "from tqdm import tqdm   "
   ]
  },
  {
   "cell_type": "code",
   "execution_count": 66,
   "metadata": {},
   "outputs": [],
   "source": [
    "class GP_Dataset(ReimNeRFDataset):# probably it would be better if i write a generic colmap parser and then inherit\n",
    "    def __init__(self, GP_dir, filter_pointcloud=True, undistort=False):\n",
    "        self.data_dir = Path(GP_dir) \n",
    "        self.img_dir = Path(GP_dir)/'images'\n",
    "        self.depth_dir = Path(GP_dir)/'depths'\n",
    "        self.undistort = undistort\n",
    "        self.filter =filter_pointcloud\n",
    "\n",
    "        # poses are in data_dir something *_poses.txt\n",
    "        self.poses_path = [f for f in os.listdir(self.data_dir) if f.endswith(\"_poses.txt\")][0]\n",
    "        self.poses_path = os.path.join(self.data_dir, self.poses_path)\n",
    "\n",
    "\n",
    "        self.far_bounds_scaling = 1.1\n",
    "        self.near_bounds_scaling = 0.9\n",
    "\n",
    "        # data provided with the dataset\n",
    "        self.image_paths=[]\n",
    "        self.depth_paths=[]\n",
    "        self.poses=[]\n",
    "        self.calib=dict()\n",
    "\n",
    "\n",
    "        # data we compute\n",
    "        self.depthmaps=[]\n",
    "        self.distmaps=[]\n",
    "        self.frame_pointclouds=[]\n",
    "        self.near_bounds=[]\n",
    "        self.far_bounds=[]\n",
    "        self.pointcloud=None\n",
    "        self.scale_factor=1.0\n",
    "        self.center_geom_T=np.eye(4)\n",
    "        \n",
    "        if self.undistort:\n",
    "            self.img_tmp_dir = Path('./tmp_endomapper_dir')\n",
    "            self.img_tmp_dir.mkdir(exist_ok=True, parents=True)\n",
    "        \n",
    "        self.metainfo={'dist_ftype':'png',\n",
    "                       'distmap':'sparse',\n",
    "                       'rgb_mask':'rgb_mask.png'}\n",
    "        \n",
    "        self.cameras_p =  self.data_dir/'cameras.txt'\n",
    "        self.cm_camera_load_f = cm.read_cameras_text\n",
    "        \n",
    "        self.load_dataset()\n",
    "        \n",
    "\n",
    "    def load_dataset(self):        \n",
    "        # make a list of all the keys in images to be used from the loading functions\n",
    "        # in order to load data in the correct order\n",
    "        self.load_data() # depthmaps have np.nan values in place of zero depth pixels\n",
    "        self._compute_bounds() # np.nan values are ignored\n",
    "        self._combine_pointclouds()\n",
    "\n",
    "    def _read_calib(self):\n",
    "        if self.cameras_p.suffix=='.bin':\n",
    "            camera_info = cm.read_cameras_binary(self.cameras_p)\n",
    "        elif self.cameras_p.suffix=='.txt':\n",
    "            camera_info = cm.read_cameras_text(self.cameras_p)\n",
    "        else:\n",
    "            raise FileNotFoundError(f\"could not find {self.cameras_p}\")\n",
    "        # intrinsics = np.loadtxt(self.image_dir/'cam.txt')\n",
    "\n",
    "        # make sure than only a single camera model is available\n",
    "        if len(camera_info.keys())!=1:\n",
    "            raise ValueError\n",
    "        camera_info = camera_info[1]\n",
    "        #https://github.com/NVlabs/instant-ngp/blob/master/scripts/colmap2nerf.py\n",
    "\n",
    "        self.calib ={'fx':0,\n",
    "                'fy':0,\n",
    "                'cx':0,\n",
    "                'cy':0,\n",
    "                'k1':0,\n",
    "                'k2':0,\n",
    "                'k3':0,\n",
    "                'k4':0,\n",
    "                'p1':0,\n",
    "                'p2':0,\n",
    "                'w':camera_info.width,\n",
    "                'h':camera_info.height,\n",
    "                'model':camera_info.model}\n",
    "\n",
    "        if camera_info.model == 'SIMPLE_PINHOLE':\n",
    "            self.calib['fx'] = camera_info.params[0]\n",
    "            self.calib['fy'] = camera_info.params[0]\n",
    "            self.calib['cx'] = camera_info.params[1]\n",
    "            self.calib['cy'] = camera_info.params[2]\n",
    "        elif camera_info.model == 'PINHOLE':\n",
    "            self.calib['fx'] = camera_info.params[0]\n",
    "            self.calib['fy'] = camera_info.params[1]\n",
    "            self.calib['cx'] = camera_info.params[2]\n",
    "            self.calib['cy'] = camera_info.params[3]\n",
    "        elif camera_info.model == 'SIMPLE_RADIAL':\n",
    "            self.calib['fx'] = camera_info.params[0]\n",
    "            self.calib['fy'] = camera_info.params[0]\n",
    "            self.calib['cx'] = camera_info.params[1]\n",
    "            self.calib['cy'] = camera_info.params[2]\n",
    "            self.calib['k1'] = camera_info.params[3]\n",
    "        elif camera_info.model == 'RADIAL':\n",
    "            self.calib['fx'] = camera_info.params[0]\n",
    "            self.calib['fy'] = camera_info.params[0]\n",
    "            self.calib['cx'] = camera_info.params[1]\n",
    "            self.calib['cy'] = camera_info.params[2]\n",
    "            self.calib['k1'] = camera_info.params[3]\n",
    "            self.calib['k2'] = camera_info.params[4]\n",
    "\n",
    "        elif camera_info.model == 'OPENCV':\n",
    "            self.calib['fx'] = camera_info.params[0]\n",
    "            self.calib['fy'] = camera_info.params[1]\n",
    "            self.calib['cx'] = camera_info.params[2]\n",
    "            self.calib['cy'] = camera_info.params[3]\n",
    "            self.calib['k1'] = camera_info.params[4]\n",
    "            self.calib['k2'] = camera_info.params[5]\n",
    "            self.calib['p1'] = camera_info.params[6]\n",
    "            self.calib['p2'] = camera_info.params[7]\n",
    "        elif camera_info.model == \"SIMPLE_RADIAL_FISHEYE\":\n",
    "            self.calib['fx'] = camera_info.params[0]\n",
    "            self.calib['fy'] = camera_info.params[0]\n",
    "            self.calib['cx'] = camera_info.params[1]\n",
    "            self.calib['cy'] = camera_info.params[2]\n",
    "            self.calib['k1'] = camera_info.params[3]\n",
    "        elif camera_info.model == \"RADIAL_FISHEYE\":\n",
    "            self.calib['fx'] = camera_info.params[0]\n",
    "            self.calib['fy'] = camera_info.params[0]\n",
    "            self.calib['cx'] = camera_info.params[1]\n",
    "            self.calib['cy'] = camera_info.params[2]\n",
    "            self.calib['k1'] = camera_info.params[3]\n",
    "            self.calib['k2'] = camera_info.params[4]\n",
    "        elif camera_info.model == \"OPENCV_FISHEYE\":\n",
    "            self.calib['fx'] = camera_info.params[0]\n",
    "            self.calib['fy'] = camera_info.params[1]\n",
    "            self.calib['cx'] = camera_info.params[2]\n",
    "            self.calib['cy'] = camera_info.params[3]\n",
    "            self.calib['k1'] = camera_info.params[4]\n",
    "            self.calib['k2'] = camera_info.params[5]\n",
    "            self.calib['k3'] = camera_info.params[6]\n",
    "            self.calib['k4'] = camera_info.params[7]\n",
    "        else:\n",
    "            raise NotImplementedError(f\"Please parse the intrinsics for camera model {camera_info.model}!\")\n",
    "  \n",
    "\n",
    "    def _construct_rgb_masks(self):\n",
    "        \"\"\"construct mask to ignore rgb values during optimization and evalutation\"\"\"\n",
    "        img = cv2.imread(str(self.image_paths[0]))\n",
    "        self.rgb_mask = np.all(img<=5, axis=-1).astype(np.uint8)*255\n",
    "        if 'FISHEYE' in self.calib['model']:\n",
    "            # erode the mask to avoid having pixels in the periphery of the image\n",
    "            erode_kernel_size = int(self.calib['h']*0.05)\n",
    "            self.rgb_mask = cv2.erode(self.rgb_mask,\n",
    "                                      np.ones((erode_kernel_size,erode_kernel_size)),\n",
    "                                      borderType=cv2.BORDER_CONSTANT,\n",
    "                                      borderValue=0)\n",
    "\n",
    "    def convert_pose_to_colmap(self):\n",
    "        image_files = [f for f in os.listdir(self.img_dir) if f.endswith('.png') or f.endswith('.jpg')]\n",
    "        depth_files = [f for f in os.listdir(self.depth_dir) if f.endswith('.png') or f.endswith('.jpg')]\n",
    "        image_files.sort(key=lambda f: int(f.split(\".\")[0]))\n",
    "        depth_files.sort(key=lambda f: int(f.split(\".\")[0]))\n",
    "        images = read_rnnslam_extrinsics(self.poses_path, image_files, depth_files)\n",
    "\n",
    "        return images\n",
    "\n",
    "\n",
    "    def colmap_pose_to_T(self, img_data):\n",
    "        transform = np.eye(4)\n",
    "        transform[:3,:3] = img_data.qvec2rotmat()\n",
    "        transform[:3,-1] = img_data.tvec.reshape(-1)\n",
    "        return transform # this should be opencv w2c format\n",
    "\n",
    "\n",
    "    def load_data(self):\n",
    "        # read information regarding camera calibration\n",
    "        self.colmap_cameras = self.cm_camera_load_f(self.cameras_p)\n",
    "        # read information regarding the poses, 3d points indexing and projeciton coordinates\n",
    "        self.colmap_images = self.convert_pose_to_colmap()\n",
    "    \n",
    "        \n",
    "        # read calibration from the colmap_cameras and populate the self.calib attribute\n",
    "        self._read_calib()\n",
    "\n",
    "        for idx, val in self.colmap_images.items():\n",
    "\n",
    "            self.image_paths.append(self.img_dir/val.name)\n",
    "            self.depth_paths.append(self.depth_dir/val.depth_name)\n",
    "\n",
    "            # load the pose of the frame\n",
    "            w2c = self.colmap_pose_to_T(val).astype(np.float32)\n",
    "            c2w = np.linalg.inv(w2c)\n",
    "            # convert it to opengl format and store it\n",
    "            self.poses.append(c2w@np.diag((1,-1,-1,1)))\n",
    "        \n",
    "        self._construct_rgb_masks()\n",
    "\n",
    "        ray_dirs = self._get_ray_directions(coordinates='opencv', pix_offset=0.5) # (hw x 3)\n",
    "\n",
    "        for i in tqdm(range(len(self.image_paths))):\n",
    "\n",
    "            depthmap = self._read_depthmap(self.depth_paths[i])# (h xw)\n",
    "\n",
    "            depthmap[self.rgb_mask[...,0]!=0]=np.nan\n",
    "            \n",
    "            # unproject depthmap to pointcloud\n",
    "            frame_ptcloud = depthmap.reshape(-1,1)*ray_dirs #(hw x 3)\n",
    "            \n",
    "            distmap = np.linalg.norm(frame_ptcloud, axis=-1).reshape(self.calib['h'], self.calib['w'])\n",
    "            \n",
    "            frame_ptcloud = frame_ptcloud[~np.any(np.isnan(frame_ptcloud), axis=1)]# remove nan points\n",
    "            frame_ptcloud = frame_ptcloud@ np.diag((1,-1,-1))# convert to opengl\n",
    "\n",
    "            self.frame_pointclouds.append(frame_ptcloud[::1000])# reduce the resolution to manage\n",
    "            # pointcloud size. \n",
    "            self.depthmaps.append(depthmap)\n",
    "            self.distmaps.append(distmap)\n",
    "\n",
    "    def _compute_bounds(self):\n",
    "        for dist in self.distmaps:\n",
    "            # we need to bounds based on cartesian distance and not z distance\n",
    "            # which depthmaps typically encode. this is because the bounds will\n",
    "            # be used to configure nerf's render distance\n",
    "            self.far_bounds.append(np.nanmax(dist)*self.far_bounds_scaling)\n",
    "            self.near_bounds.append(np.nanmin(dist)*self.near_bounds_scaling)\n",
    "    \n",
    "    def _read_depthmap(self, file_path):\n",
    "        # the GP dataset follows the format described below\n",
    "        # depthmaps are stored as int32 values between\n",
    "        # -2**32-1 and 2**32-1. The values are mapped to 0-100mm\n",
    "        # they only occupy a small range of the int32 values not the full range\n",
    "        file_path = str(file_path)\n",
    "        depth = cv2.imread(file_path, cv2.IMREAD_UNCHANGED).astype(np.float32)\n",
    "        depth_range = np.max(depth) - np.min(depth)\n",
    "        if depth_range > 0:\n",
    "            depth = ((depth - np.min(depth)) / depth_range) * 100\n",
    "        else:\n",
    "            depth = np.zeros(depth.shape, dtype=np.float32)\n",
    "        depth[depth==0]=np.nan\n",
    "        return depth\n"
   ]
  },
  {
   "cell_type": "code",
   "execution_count": 67,
   "metadata": {},
   "outputs": [
    {
     "name": "stderr",
     "output_type": "stream",
     "text": [
      "  3%|▎         | 2/61 [00:00<00:04, 12.00it/s]"
     ]
    },
    {
     "name": "stderr",
     "output_type": "stream",
     "text": [
      "100%|██████████| 61/61 [00:05<00:00, 10.87it/s]\n"
     ]
    }
   ],
   "source": [
    "c3vd_directory = \"/workspaces/REIM-NeRF/data/C3VD-not-processed/trans_t1_a 2\"\n",
    "cd = C3VD(c3vd_directory)\n",
    "gp_directory = \"/workspaces/REIM-NeRF/data/GP-not-processed/rectum\"\n",
    "gp = GP_Dataset(gp_directory, filter_pointcloud=True, undistort=False)"
   ]
  },
  {
   "cell_type": "code",
   "execution_count": 69,
   "metadata": {},
   "outputs": [
    {
     "name": "stdout",
     "output_type": "stream",
     "text": [
      "GP pointcloud shape: (4620, 3)\n",
      "C3VD pointcloud shape: (74411, 3)\n"
     ]
    }
   ],
   "source": [
    "print(\"GP pointcloud shape:\", gp.pointcloud.shape)\n",
    "print(\"C3VD pointcloud shape:\", cd.pointcloud.shape)"
   ]
  },
  {
   "cell_type": "code",
   "execution_count": 70,
   "metadata": {},
   "outputs": [
    {
     "name": "stdout",
     "output_type": "stream",
     "text": [
      "GP distmaps min and max:  [1.3786448774044442, 100.75156897305895]\n",
      "C3VD distmaps min and max:  [8.642069486171449, 103.06983775822651]\n"
     ]
    }
   ],
   "source": [
    "# find non nan min and max of c3vd_as_colmap.distmaps[0]\n",
    "gpmin, gpmax = gp.distmaps[0][~np.isnan(gp.distmaps[0])].min(), gp.distmaps[0][~np.isnan(gp.distmaps[0])].max()\n",
    "print(\"GP distmaps min and max: \", [gpmin, gpmax])\n",
    "cdmin, cdmax = cd.distmaps[0][~np.isnan(cd.distmaps[0])].min(), cd.distmaps[0][~np.isnan(cd.distmaps[0])].max()\n",
    "print(\"C3VD distmaps min and max: \", [cdmin, cdmax])"
   ]
  },
  {
   "cell_type": "code",
   "execution_count": 71,
   "metadata": {},
   "outputs": [
    {
     "name": "stdout",
     "output_type": "stream",
     "text": [
      "GP depth maps min and max: [0.864242, 100.0]\n",
      "C3VD depth maps min and max: [4.350347, 100.0]\n"
     ]
    }
   ],
   "source": [
    "minu, maxu = gp.depthmaps[0][~np.isnan(gp.depthmaps[0])].min(), gp.depthmaps[0][~np.isnan(gp.depthmaps[0])].max()\n",
    "print(\"GP depth maps min and max:\", [minu, maxu])\n",
    "minu, maxu = cd.depthmaps[0][~np.isnan(cd.depthmaps[0])].min(), cd.depthmaps[0][~np.isnan(cd.depthmaps[0])].max()\n",
    "print(\"C3VD depth maps min and max:\", [minu, maxu])"
   ]
  },
  {
   "cell_type": "code",
   "execution_count": 72,
   "metadata": {},
   "outputs": [
    {
     "name": "stdout",
     "output_type": "stream",
     "text": [
      "normalizing GP and C3VD\n"
     ]
    }
   ],
   "source": [
    "# normalize dataset\n",
    "print(\"normalizing GP and C3VD\")\n",
    "gp._normalize_dataset()\n",
    "cd._normalize_dataset()"
   ]
  },
  {
   "cell_type": "code",
   "execution_count": 73,
   "metadata": {},
   "outputs": [
    {
     "name": "stdout",
     "output_type": "stream",
     "text": [
      "GP distmaps min and max after normalizing:\n",
      "0.017078103766811837 1.3386112026811425\n",
      "C3VD distmaps min and max after normalizing:\n",
      "0.09565724023684691 1.149649702685465\n"
     ]
    }
   ],
   "source": [
    "# find non nan min and max of c3vd_as_colmap.distmaps[0]\n",
    "print(\"GP distmaps min and max after normalizing:\")\n",
    "print(gp.distmaps[1][~np.isnan(gp.distmaps[1])].min(), gp.distmaps[1][~np.isnan(gp.distmaps[1])].max())\n",
    "print(\"C3VD distmaps min and max after normalizing:\")\n",
    "print(cd.distmaps[1][~np.isnan(cd.distmaps[1])].min(), cd.distmaps[1][~np.isnan(cd.distmaps[1])].max())"
   ]
  },
  {
   "cell_type": "code",
   "execution_count": 74,
   "metadata": {},
   "outputs": [
    {
     "name": "stdout",
     "output_type": "stream",
     "text": [
      "GP depth maps min and max after normalizing: [0.01137057, 1.3156698]\n",
      "C3VD depth maps min and max after normalizing: [0.048548326, 1.1159644]\n"
     ]
    }
   ],
   "source": [
    "# print min and max of depthmaps[0] that are not nan\n",
    "minu, maxu = gp.depthmaps[0][~np.isnan(gp.depthmaps[0])].min(), gp.depthmaps[0][~np.isnan(gp.depthmaps[0])].max()\n",
    "print(\"GP depth maps min and max after normalizing:\", [minu, maxu])\n",
    "minu, maxu = cd.depthmaps[0][~np.isnan(cd.depthmaps[0])].min(), cd.depthmaps[0][~np.isnan(cd.depthmaps[0])].max()\n",
    "print(\"C3VD depth maps min and max after normalizing:\", [minu, maxu])"
   ]
  },
  {
   "cell_type": "code",
   "execution_count": 75,
   "metadata": {},
   "outputs": [
    {
     "name": "stdout",
     "output_type": "stream",
     "text": [
      "GP_Dataset pointcloud:\n",
      "X axis:\n",
      "Min: -0.5531914990735356 Max: 0.5274832249273669\n",
      "Y axis:\n",
      "Min: -1.0 Max: 0.5095501545268646\n",
      "Z axis:\n",
      "Min: -0.3847093152414447 Max: 0.923066200194344\n"
     ]
    }
   ],
   "source": [
    "# For the X axis (all points, first column):\n",
    "x_min, y_min, z_min = gp.pointcloud.min(axis=0)\n",
    "x_max, y_max, z_max = gp.pointcloud.max(axis=0)\n",
    "print(\"GP_Dataset pointcloud:\")\n",
    "print(\"X axis:\")\n",
    "print(\"Min:\", x_min, \"Max:\", x_max)\n",
    "\n",
    "# For the Y axis (all points, second column):\n",
    "print(\"Y axis:\")\n",
    "print(\"Min:\", y_min, \"Max:\", y_max)\n",
    "\n",
    "# For the Z axis (all points, third column):\n",
    "print(\"Z axis:\")\n",
    "print(\"Min:\", z_min, \"Max:\", z_max)"
   ]
  },
  {
   "cell_type": "code",
   "execution_count": 76,
   "metadata": {},
   "outputs": [
    {
     "name": "stdout",
     "output_type": "stream",
     "text": [
      "C3VD pointcloud:\n",
      "X axis:\n",
      "Min: -0.16401003741839104 Max: 0.20738876368588632\n",
      "Y axis:\n",
      "Min: -1.0 Max: 0.37469017070080846\n",
      "Z axis:\n",
      "Min: -0.1892028614776312 Max: 0.2730985778324654\n"
     ]
    },
    {
     "ename": "",
     "evalue": "",
     "output_type": "error",
     "traceback": [
      "\u001b[1;31mThe Kernel crashed while executing code in the current cell or a previous cell. \n",
      "\u001b[1;31mPlease review the code in the cell(s) to identify a possible cause of the failure. \n",
      "\u001b[1;31mClick <a href='https://aka.ms/vscodeJupyterKernelCrash'>here</a> for more info. \n",
      "\u001b[1;31mView Jupyter <a href='command:jupyter.viewOutput'>log</a> for further details."
     ]
    }
   ],
   "source": [
    "# For the X axis (all points, first column):\n",
    "x_min, y_min, z_min = cd.pointcloud.min(axis=0)\n",
    "x_max, y_max, z_max = cd.pointcloud.max(axis=0)\n",
    "print(\"C3VD pointcloud:\")\n",
    "print(\"X axis:\")\n",
    "print(\"Min:\", x_min, \"Max:\", x_max)\n",
    "\n",
    "# For the Y axis (all points, second column):\n",
    "print(\"Y axis:\")\n",
    "print(\"Min:\", y_min, \"Max:\", y_max)\n",
    "\n",
    "# For the Z axis (all points, third column):\n",
    "print(\"Z axis:\")\n",
    "print(\"Min:\", z_min, \"Max:\", z_max)"
   ]
  }
 ],
 "metadata": {
  "kernelspec": {
   "display_name": "base",
   "language": "python",
   "name": "python3"
  },
  "language_info": {
   "codemirror_mode": {
    "name": "ipython",
    "version": 3
   },
   "file_extension": ".py",
   "mimetype": "text/x-python",
   "name": "python",
   "nbconvert_exporter": "python",
   "pygments_lexer": "ipython3",
   "version": "3.8.12"
  }
 },
 "nbformat": 4,
 "nbformat_minor": 2
}
